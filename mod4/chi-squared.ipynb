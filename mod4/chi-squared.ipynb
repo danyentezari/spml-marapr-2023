{
 "cells": [
  {
   "cell_type": "code",
   "execution_count": 14,
   "metadata": {},
   "outputs": [
    {
     "name": "stdout",
     "output_type": "stream",
     "text": [
      "Chi-squared statistic: 0.022385022385022324\n",
      "P-value: 0.8810673865336751\n",
      "Degree of freedom: 1\n",
      "Expected frequencies: [[ 8.27272727  5.72727273]\n",
      " [17.72727273 12.27272727]]\n"
     ]
    }
   ],
   "source": [
    "import numpy as np\n",
    "from scipy.stats import chi2_contingency\n",
    "\n",
    "# create a 2 by 2 contingency table\n",
    "contingency_table = np.array([[9, 5], [17, 13]])\n",
    "\n",
    "# calculate the chi-squared test statistic, p-value, degree of freedom, and expected frequencies\n",
    "chi2_stat, p_val, dof, expected_freq = chi2_contingency(contingency_table)\n",
    "\n",
    "print(\"Chi-squared statistic:\", chi2_stat)\n",
    "print(\"P-value:\", p_val)\n",
    "print(\"Degree of freedom:\", dof)\n",
    "print(\"Expected frequencies:\", expected_freq)\n"
   ]
  },
  {
   "cell_type": "code",
   "execution_count": 15,
   "metadata": {},
   "outputs": [],
   "source": [
    "c_table = [\n",
    "    [9,5],\n",
    "    [17,13]\n",
    "]"
   ]
  },
  {
   "cell_type": "code",
   "execution_count": 19,
   "metadata": {},
   "outputs": [
    {
     "data": {
      "text/plain": [
       "(0.6428571428571429, 0.5666666666666667, 0.5909090909090909)"
      ]
     },
     "execution_count": 19,
     "metadata": {},
     "output_type": "execute_result"
    }
   ],
   "source": [
    "g1 = c_table[0][0] / (c_table[0][0] + c_table[0][1])\n",
    "g2 = c_table[1][0] / (c_table[1][0] + c_table[1][1])\n",
    "pooled  = (c_table[0][0] + c_table[1][0]) / (c_table[0][0] + c_table[0][1] + c_table[1][0] + c_table[1][1])\n",
    "\n",
    "\n",
    "g1,g2, pooled"
   ]
  },
  {
   "cell_type": "code",
   "execution_count": 22,
   "metadata": {},
   "outputs": [
    {
     "data": {
      "text/plain": [
       "0.15496386434228634"
      ]
     },
     "execution_count": 22,
     "metadata": {},
     "output_type": "execute_result"
    }
   ],
   "source": [
    "z = (g1 - g2) / ((pooled * (1 - pooled)) * (1/len(c_table[0]) + 1/len(c_table[1])))**0.5\n",
    "z"
   ]
  },
  {
   "cell_type": "code",
   "execution_count": null,
   "metadata": {},
   "outputs": [],
   "source": []
  }
 ],
 "metadata": {
  "kernelspec": {
   "display_name": "Python 3",
   "language": "python",
   "name": "python3"
  },
  "language_info": {
   "codemirror_mode": {
    "name": "ipython",
    "version": 3
   },
   "file_extension": ".py",
   "mimetype": "text/x-python",
   "name": "python",
   "nbconvert_exporter": "python",
   "pygments_lexer": "ipython3",
   "version": "3.9.4"
  },
  "orig_nbformat": 4
 },
 "nbformat": 4,
 "nbformat_minor": 2
}
